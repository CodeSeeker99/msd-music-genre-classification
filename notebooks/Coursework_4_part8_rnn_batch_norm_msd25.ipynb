{
 "cells": [
  {
   "cell_type": "code",
   "execution_count": 1,
   "metadata": {
    "collapsed": true
   },
   "outputs": [],
   "source": [
    "from __future__ import division"
   ]
  },
  {
   "cell_type": "markdown",
   "metadata": {},
   "source": [
    "# KAGGLE ONLY PURPOSES"
   ]
  },
  {
   "cell_type": "markdown",
   "metadata": {},
   "source": [
    "2017\n",
    "\n",
    "Machine Learning Practical\n",
    "\n",
    "University of Edinburgh\n",
    "\n",
    "Georgios Pligoropoulos - s1687568\n",
    "\n",
    "Coursework 4 (part 8)"
   ]
  },
  {
   "cell_type": "markdown",
   "metadata": {},
   "source": [
    "### Imports, Inits, and helper functions"
   ]
  },
  {
   "cell_type": "code",
   "execution_count": 2,
   "metadata": {
    "collapsed": true
   },
   "outputs": [],
   "source": [
    "jupyterNotebookEnabled = True\n",
    "plotting = True\n",
    "coursework, part = 4, 8\n",
    "saving = True\n",
    "\n",
    "if jupyterNotebookEnabled:\n",
    "    #%load_ext autoreload\n",
    "    %reload_ext autoreload\n",
    "    %autoreload 2"
   ]
  },
  {
   "cell_type": "code",
   "execution_count": 3,
   "metadata": {
    "collapsed": true
   },
   "outputs": [],
   "source": [
    "import sys, os\n",
    "mlpdir = os.path.expanduser(\n",
    "    '~/pligor.george@gmail.com/msc_Artificial_Intelligence/mlp_Machine_Learning_Practical/mlpractical'\n",
    ")\n",
    "sys.path.append(mlpdir)"
   ]
  },
  {
   "cell_type": "code",
   "execution_count": 4,
   "metadata": {
    "collapsed": false
   },
   "outputs": [],
   "source": [
    "from collections import OrderedDict\n",
    "import skopt\n",
    "from mylibs.jupyter_notebook_helper import show_graph\n",
    "import datetime\n",
    "import os\n",
    "import time\n",
    "import tensorflow as tf\n",
    "import numpy as np\n",
    "from mlp.data_providers import MSD10GenreDataProvider, MSD25GenreDataProvider,\\\n",
    "    MSD10Genre_Autoencoder_DataProvider, MSD10Genre_StackedAutoEncoderDataProvider\n",
    "import matplotlib.pyplot as plt\n",
    "from mylibs.batch_norm import fully_connected_layer_with_batch_norm_and_l2\n",
    "from mylibs.stacked_autoencoder_pretrainer import \\\n",
    "    constructModelFromPretrainedByAutoEncoderStack,\\\n",
    "    buildGraphOfStackedAutoencoder, executeNonLinearAutoencoder\n",
    "    \n",
    "from mylibs.jupyter_notebook_helper import getRunTime, getTrainWriter, getValidWriter,\\\n",
    "    plotStats, initStats, gatherStats, renderStatsCollection\n",
    "    \n",
    "from mylibs.tf_helper import tfRMSE, tfMSE, fully_connected_layer\n",
    "    #trainEpoch, validateEpoch\n",
    "\n",
    "from mylibs.py_helper import merge_dicts\n",
    "\n",
    "from mylibs.dropout_helper import constructProbs\n",
    "\n",
    "from mylibs.batch_norm import batchNormWrapper_byExponentialMovingAvg,\\\n",
    "    fully_connected_layer_with_batch_norm\n",
    "    \n",
    "import pickle\n",
    "from skopt.plots import plot_convergence\n",
    "from mylibs.jupyter_notebook_helper import DynStats\n",
    "import operator\n",
    "from skopt.space.space import Integer, Categorical, Real\n",
    "from skopt import gp_minimize\n",
    "from rnn.rnn_batch_norm import RNNBatchNorm\n",
    "\n",
    "if jupyterNotebookEnabled:\n",
    "    %matplotlib inline"
   ]
  },
  {
   "cell_type": "code",
   "execution_count": 5,
   "metadata": {
    "collapsed": true
   },
   "outputs": [],
   "source": [
    "seed = 16011984\n",
    "rng = np.random.RandomState(seed=seed)\n",
    "\n",
    "config = tf.ConfigProto(log_device_placement=True, allow_soft_placement=True)\n",
    "config.gpu_options.allow_growth = True\n",
    "\n",
    "figcount = 0\n",
    "\n",
    "tensorboardLogdir = 'tf_cw%d_%d' % (coursework, part)\n",
    "\n",
    "curDtype = tf.float32\n",
    "\n",
    "reluBias = 0.1"
   ]
  },
  {
   "cell_type": "code",
   "execution_count": 6,
   "metadata": {
    "collapsed": true
   },
   "outputs": [],
   "source": [
    "batch_size = 50\n",
    "segmentCount = 120\n",
    "segmentLen = 25"
   ]
  },
  {
   "cell_type": "code",
   "execution_count": 7,
   "metadata": {
    "collapsed": true
   },
   "outputs": [],
   "source": [
    "best_params_filename = 'rnn_msd25_best_params.npy'\n",
    "stats_coll_filename = 'rnn_msd25_bay_opt_stats_coll.npy'\n",
    "res_gp_save_filename = 'rnn_msd25_res_gp.pickle'\n",
    "stats_final_run_filename = 'rnn_msd25_final_run_stats.npy'"
   ]
  },
  {
   "cell_type": "markdown",
   "metadata": {},
   "source": [
    "here the state size is equal to the number of classes because we have given to the last output all the responsibility.\n",
    "\n",
    "We are going to follow a repetitive process. For example if num_steps=6 then we break the 120 segments into 20 parts\n",
    "\n",
    "The output of each part will be the genre. We are comparing against the genre every little part "
   ]
  },
  {
   "cell_type": "markdown",
   "metadata": {},
   "source": [
    "### MSD 25 genre Bayesian Optimization"
   ]
  },
  {
   "cell_type": "code",
   "execution_count": 8,
   "metadata": {
    "collapsed": true
   },
   "outputs": [],
   "source": [
    "num_classes=25"
   ]
  },
  {
   "cell_type": "code",
   "execution_count": 9,
   "metadata": {
    "collapsed": false
   },
   "outputs": [
    {
     "name": "stdout",
     "output_type": "stream",
     "text": [
      "14\n"
     ]
    },
    {
     "data": {
      "text/plain": [
       "array([ 2,  3,  4,  5,  6,  8, 10, 12, 15, 20, 24, 30, 40, 60])"
      ]
     },
     "execution_count": 9,
     "metadata": {},
     "output_type": "execute_result"
    }
   ],
   "source": [
    "numLens = np.sort(np.unique([2, 3, 4, 5, 6, 8, 10, 12, 15, 20, 24, 30, 40, 60]))\n",
    "assert np.all( segmentCount % numLens == 0 )\n",
    "print len(numLens)\n",
    "numLens"
   ]
  },
  {
   "cell_type": "code",
   "execution_count": 10,
   "metadata": {
    "collapsed": false
   },
   "outputs": [],
   "source": [
    "rnnModel = RNNBatchNorm(batch_size=batch_size, rng=rng, dtype = curDtype, config=config,\n",
    "                      segment_count=segmentCount, segment_len= segmentLen, num_classes=num_classes)"
   ]
  },
  {
   "cell_type": "code",
   "execution_count": 11,
   "metadata": {
    "collapsed": true
   },
   "outputs": [],
   "source": [
    "#it cannot accept global variables for some unknown reason ...\n",
    "def objective(params): # Here we define the metric we want to minimise    \n",
    "    (state_size, num_steps, learning_rate) = params\n",
    "    \n",
    "    epochs = 20\n",
    "    \n",
    "    stats, keys = rnnModel.run_rnn(state_size = state_size, num_steps=num_steps, epochs = epochs, \n",
    "                                  learning_rate = learning_rate)\n",
    "    \n",
    "    #save everytime in case it crashes\n",
    "    filename = stats_coll_filename\n",
    "    statsCollection = np.load(filename)[()] if os.path.isfile(filename) else dict()\n",
    "    statsCollection[(state_size, num_steps, learning_rate)] = stats\n",
    "    np.save(filename, statsCollection)\n",
    "    \n",
    "    if plotting:\n",
    "        fig_1, ax_1, fig_2, ax_2 = plotStats(stats, keys)\n",
    "        plt.show()\n",
    "    \n",
    "    # We want to maximise validation accuracy, i.e. minimise minus validation accuracy\n",
    "    validAccs = stats[:, -1]\n",
    "    length10percent = max(len(validAccs) // 10, 1)\n",
    "    best10percent = np.sort(validAccs)[-length10percent:]\n",
    "    return -np.mean(best10percent)\n",
    "    #return -max(stats[:, -1])"
   ]
  },
  {
   "cell_type": "code",
   "execution_count": 12,
   "metadata": {
    "collapsed": true
   },
   "outputs": [],
   "source": [
    "#it cannot accept global variables for some unknown reason ...\n",
    "def objective_min_epochs(params): # Here we define the metric we want to minimise    \n",
    "    (state_size, num_steps, learning_rate) = params\n",
    "    \n",
    "    targetValidAcc = 0.23\n",
    "    maxEpochs = 20\n",
    "    \n",
    "    stats, metric = rnnModel.run_until(targetValidAcc = targetValidAcc, maxEpochs=maxEpochs,\n",
    "                                       learning_rate=learning_rate, num_steps=num_steps, state_size =state_size)\n",
    "\n",
    "    \n",
    "    #save everytime in case it crashes\n",
    "    filename = stats_coll_filename\n",
    "    statsCollection = np.load(filename)[()] if os.path.isfile(filename) else dict()\n",
    "    statsCollection[(state_size, num_steps, learning_rate)] = stats\n",
    "    np.save(filename, statsCollection)\n",
    "    \n",
    "    if plotting:\n",
    "        fig_1, ax_1, fig_2, ax_2 = plotStats(stats, DynStats.keys)\n",
    "        plt.show()\n",
    "    \n",
    "    # We want to minimize the amount of epochs required to reach 23% accuracy\n",
    "    return metric"
   ]
  },
  {
   "cell_type": "code",
   "execution_count": 13,
   "metadata": {
    "collapsed": true
   },
   "outputs": [],
   "source": [
    "stateSizeSpace = Integer(15, 1000)\n",
    "numStepSpace = Categorical(numLens)\n",
    "learningRateSpace = Real(1e-6, 1e-1, prior=\"log-uniform\")\n",
    "space  = [stateSizeSpace, numStepSpace, learningRateSpace]"
   ]
  },
  {
   "cell_type": "code",
   "execution_count": 14,
   "metadata": {
    "collapsed": false
   },
   "outputs": [
    {
     "name": "stdout",
     "output_type": "stream",
     "text": [
      "CPU times: user 0 ns, sys: 0 ns, total: 0 ns\n",
      "Wall time: 9.06 µs\n"
     ]
    }
   ],
   "source": [
    "if jupyterNotebookEnabled:\n",
    "    %%time\n",
    "\n",
    "if not os.path.isfile(best_params_filename):\n",
    "    if os.path.isfile(stats_coll_filename):\n",
    "        os.remove(stats_coll_filename)\n",
    "    \n",
    "    res_gp = gp_minimize(\n",
    "            func=objective_min_epochs, # function that we wish to minimise\n",
    "            dimensions=space, #the search space for the hyper-parameters\n",
    "            #x0=x0, #inital values for the hyper-parameters\n",
    "            n_calls=25, #number of times the function will be evaluated\n",
    "            random_state = seed, #random seed\n",
    "            n_random_starts=5,\n",
    "                #before we start modelling the optimised function with a GP Regression\n",
    "                #model, we want to try a few random choices for the hyper-parameters.\n",
    "            kappa=1.9 #trade-off between exploration vs. exploitation.\n",
    "        )"
   ]
  },
  {
   "cell_type": "code",
   "execution_count": 15,
   "metadata": {
    "collapsed": true
   },
   "outputs": [],
   "source": [
    "if os.path.isfile(best_params_filename):\n",
    "    best_params = np.load(best_params_filename)\n",
    "else:\n",
    "    np.save(best_params_filename, res_gp.x)\n",
    "    best_params = res_gp.x"
   ]
  },
  {
   "cell_type": "code",
   "execution_count": 16,
   "metadata": {
    "collapsed": true
   },
   "outputs": [],
   "source": [
    "if os.path.isfile(res_gp_save_filename):\n",
    "    with open(res_gp_save_filename) as f:  # Python 3: open(..., 'rb')\n",
    "        (res_gp, ) = pickle.load(f)\n",
    "else:\n",
    "    with open(res_gp_save_filename, 'w') as f:  # Python 3: open(..., 'wb')\n",
    "        pickle.dump([res_gp], f)"
   ]
  },
  {
   "cell_type": "code",
   "execution_count": 17,
   "metadata": {
    "collapsed": false
   },
   "outputs": [
    {
     "data": {
      "text/plain": [
       "array([  1.67000000e+02,   1.00000000e+01,   6.76306414e-04])"
      ]
     },
     "execution_count": 17,
     "metadata": {},
     "output_type": "execute_result"
    }
   ],
   "source": [
    "best_params"
   ]
  },
  {
   "cell_type": "markdown",
   "metadata": {},
   "source": [
    "### Bayesian Optimization Plots"
   ]
  },
  {
   "cell_type": "code",
   "execution_count": 18,
   "metadata": {
    "collapsed": false
   },
   "outputs": [
    {
     "data": {
      "image/png": "[encoded data removed]",
      "text/plain": [
       "<matplotlib.figure.Figure at 0x7f59bce12150>"
      ]
     },
     "metadata": {},
     "output_type": "display_data"
    }
   ],
   "source": [
    "if plotting:\n",
    "    fig = plt.figure(figsize=(12,6))\n",
    "    plot_convergence(res_gp)\n",
    "    plt.grid()\n",
    "    plt.show()\n",
    "    if saving:\n",
    "        fig.savefig('cw{}_part{}_fig_{}.svg'.format(coursework, part, \"convergence plot\"))"
   ]
  },
  {
   "cell_type": "code",
   "execution_count": 19,
   "metadata": {
    "collapsed": false
   },
   "outputs": [
    {
     "name": "stderr",
     "output_type": "stream",
     "text": [
      "/home/studenthp/anaconda2/envs/mlp/lib/python2.7/site-packages/ipykernel/__main__.py:3: MatplotlibDeprecationWarning: pyplot.hold is deprecated.\n",
      "    Future behavior will be consistent with the long-time default:\n",
      "    plot commands add elements without first clearing the\n",
      "    Axes and/or Figure.\n",
      "  app.launch_new_instance()\n",
      "/home/studenthp/anaconda2/envs/mlp/lib/python2.7/site-packages/matplotlib/__init__.py:917: UserWarning: axes.hold is deprecated. Please remove it from your matplotlibrc and/or style files.\n",
      "  warnings.warn(self.msg_depr_set % key)\n",
      "/home/studenthp/anaconda2/envs/mlp/lib/python2.7/site-packages/matplotlib/rcsetup.py:152: UserWarning: axes.hold is deprecated, will be removed in 3.0\n",
      "  warnings.warn(\"axes.hold is deprecated, will be removed in 3.0\")\n",
      "/home/studenthp/anaconda2/envs/mlp/lib/python2.7/site-packages/ipykernel/__main__.py:9: MatplotlibDeprecationWarning: pyplot.hold is deprecated.\n",
      "    Future behavior will be consistent with the long-time default:\n",
      "    plot commands add elements without first clearing the\n",
      "    Axes and/or Figure.\n"
     ]
    },
    {
     "data": {
      "image/png": "[encoded data removed]",
      "text/plain": [
       "<matplotlib.figure.Figure at 0x7f5969849fd0>"
      ]
     },
     "metadata": {},
     "output_type": "display_data"
    }
   ],
   "source": [
    "if plotting:\n",
    "    fig = plt.figure(figsize=(12,6))\n",
    "    plt.hold(True)\n",
    "    plt.plot(res_gp.func_vals)\n",
    "    plt.scatter(range(len(res_gp.func_vals)), res_gp.func_vals)\n",
    "    plt.ylabel(r'$f(x)$')\n",
    "    plt.xlabel('Number of calls $n$')\n",
    "    plt.xlim([0, len(res_gp.func_vals)])\n",
    "    plt.hold(False)\n",
    "    plt.show()\n",
    "    if saving:\n",
    "        fig.savefig('cw{}_part{}_fig_{}.svg'.format(coursework, part, \"objective_function\"))"
   ]
  },
  {
   "cell_type": "markdown",
   "metadata": {},
   "source": [
    "### Experiment with Best Parameters"
   ]
  },
  {
   "cell_type": "code",
   "execution_count": 20,
   "metadata": {
    "collapsed": false
   },
   "outputs": [
    {
     "data": {
      "text/plain": [
       "array([  1.67000000e+02,   1.00000000e+01,   6.76306414e-04])"
      ]
     },
     "execution_count": 20,
     "metadata": {},
     "output_type": "execute_result"
    }
   ],
   "source": [
    "best_params = np.load(best_params_filename)\n",
    "best_params"
   ]
  },
  {
   "cell_type": "code",
   "execution_count": 21,
   "metadata": {
    "collapsed": false
   },
   "outputs": [
    {
     "data": {
      "text/plain": [
       "(167, 10, 0.00067630641402046169)"
      ]
     },
     "execution_count": 21,
     "metadata": {},
     "output_type": "execute_result"
    }
   ],
   "source": [
    "(state_size, num_steps, learning_rate) = best_params\n",
    "state_size = int(state_size) \n",
    "num_steps = int(num_steps)\n",
    "(state_size, num_steps, learning_rate)"
   ]
  },
  {
   "cell_type": "code",
   "execution_count": 22,
   "metadata": {
    "collapsed": true
   },
   "outputs": [],
   "source": [
    "num_classes = 25"
   ]
  },
  {
   "cell_type": "code",
   "execution_count": 23,
   "metadata": {
    "collapsed": false
   },
   "outputs": [],
   "source": [
    "rnnModel = RNNBatchNorm(batch_size=batch_size, rng=rng, dtype = curDtype, config=config, num_classes=num_classes,\n",
    "                      segment_count=segmentCount, segment_len= segmentLen,)"
   ]
  },
  {
   "cell_type": "code",
   "execution_count": 24,
   "metadata": {
    "collapsed": false
   },
   "outputs": [
    {
     "name": "stdout",
     "output_type": "stream",
     "text": [
      "epochs: 100\n",
      "rnn steps: 10\n",
      "state size: 167\n",
      "data_provider is divided exactly by batch size\n",
      "End epoch 01 (105.195 secs): err(train)=2.74, acc(train)=0.18, err(valid)=2.77, acc(valid)=0.17, \n",
      "data_provider is divided exactly by batch size\n",
      "End epoch 02 (104.494 secs): err(train)=2.66, acc(train)=0.20, err(valid)=2.71, acc(valid)=0.18, \n",
      "data_provider is divided exactly by batch size\n",
      "End epoch 03 (107.722 secs): err(train)=2.63, acc(train)=0.21, err(valid)=2.69, acc(valid)=0.20, \n",
      "End epoch 04 (104.542 secs): err(train)=2.60, acc(train)=0.22, err(valid)=2.69, acc(valid)=0.19, \n",
      "data_provider is divided exactly by batch size\n",
      "End epoch 05 (104.269 secs): err(train)=2.57, acc(train)=0.22, err(valid)=2.62, acc(valid)=0.21, \n",
      "data_provider is divided exactly by batch size\n",
      "End epoch 06 (104.394 secs): err(train)=2.55, acc(train)=0.23, err(valid)=2.61, acc(valid)=0.21, \n",
      "data_provider is divided exactly by batch size\n",
      "End epoch 07 (105.339 secs): err(train)=2.52, acc(train)=0.23, err(valid)=2.61, acc(valid)=0.22, \n",
      "data_provider is divided exactly by batch size\n",
      "End epoch 08 (105.188 secs): err(train)=2.51, acc(train)=0.24, err(valid)=2.56, acc(valid)=0.22, \n",
      "data_provider is divided exactly by batch size\n",
      "End epoch 09 (105.397 secs): err(train)=2.49, acc(train)=0.24, err(valid)=2.54, acc(valid)=0.23, \n",
      "End epoch 10 (104.643 secs): err(train)=2.48, acc(train)=0.25, err(valid)=2.56, acc(valid)=0.23, \n",
      "data_provider is divided exactly by batch size\n",
      "End epoch 11 (104.281 secs): err(train)=2.47, acc(train)=0.25, err(valid)=2.55, acc(valid)=0.23, \n",
      "data_provider is divided exactly by batch size\n",
      "End epoch 12 (105.317 secs): err(train)=2.46, acc(train)=0.25, err(valid)=2.53, acc(valid)=0.23, \n",
      "End epoch 13 (106.165 secs): err(train)=2.45, acc(train)=0.26, err(valid)=2.52, acc(valid)=0.23, \n",
      "End epoch 14 (105.023 secs): err(train)=2.44, acc(train)=0.26, err(valid)=2.52, acc(valid)=0.23, \n",
      "data_provider is divided exactly by batch size\n",
      "End epoch 15 (104.927 secs): err(train)=2.44, acc(train)=0.26, err(valid)=2.52, acc(valid)=0.24, \n",
      "data_provider is divided exactly by batch size\n",
      "End epoch 16 (104.798 secs): err(train)=2.43, acc(train)=0.26, err(valid)=2.52, acc(valid)=0.24, \n",
      "End epoch 17 (105.089 secs): err(train)=2.42, acc(train)=0.26, err(valid)=2.54, acc(valid)=0.23, \n",
      "data_provider is divided exactly by batch size\n",
      "End epoch 18 (104.743 secs): err(train)=2.42, acc(train)=0.26, err(valid)=2.52, acc(valid)=0.24, \n",
      "data_provider is divided exactly by batch size\n",
      "End epoch 19 (105.369 secs): err(train)=2.41, acc(train)=0.27, err(valid)=2.48, acc(valid)=0.24, \n",
      "End epoch 20 (105.156 secs): err(train)=2.40, acc(train)=0.27, err(valid)=2.49, acc(valid)=0.24, \n",
      "End epoch 21 (104.501 secs): err(train)=2.40, acc(train)=0.27, err(valid)=2.50, acc(valid)=0.24, \n",
      "End epoch 22 (104.983 secs): err(train)=2.39, acc(train)=0.27, err(valid)=2.49, acc(valid)=0.24, \n",
      "data_provider is divided exactly by batch size\n",
      "End epoch 23 (104.147 secs): err(train)=2.39, acc(train)=0.27, err(valid)=2.48, acc(valid)=0.25, \n",
      "data_provider is divided exactly by batch size\n",
      "End epoch 24 (105.231 secs): err(train)=2.39, acc(train)=0.27, err(valid)=2.48, acc(valid)=0.25, \n",
      "data_provider is divided exactly by batch size\n",
      "End epoch 25 (104.513 secs): err(train)=2.38, acc(train)=0.28, err(valid)=2.48, acc(valid)=0.25, \n",
      "End epoch 26 (104.824 secs): err(train)=2.38, acc(train)=0.27, err(valid)=2.48, acc(valid)=0.25, \n",
      "data_provider is divided exactly by batch size\n",
      "End epoch 27 (105.702 secs): err(train)=2.37, acc(train)=0.28, err(valid)=2.46, acc(valid)=0.26, \n",
      "End epoch 28 (103.729 secs): err(train)=2.37, acc(train)=0.28, err(valid)=2.48, acc(valid)=0.25, \n",
      "End epoch 29 (100.680 secs): err(train)=2.37, acc(train)=0.28, err(valid)=2.45, acc(valid)=0.26, \n",
      "data_provider is divided exactly by batch size\n",
      "End epoch 30 (100.263 secs): err(train)=2.36, acc(train)=0.28, err(valid)=2.46, acc(valid)=0.26, \n",
      "End epoch 31 (100.122 secs): err(train)=2.35, acc(train)=0.28, err(valid)=2.47, acc(valid)=0.25, \n",
      "data_provider is divided exactly by batch size\n",
      "End epoch 32 (101.195 secs): err(train)=2.35, acc(train)=0.28, err(valid)=2.48, acc(valid)=0.26, \n",
      "data_provider is divided exactly by batch size\n",
      "End epoch 33 (100.327 secs): err(train)=2.35, acc(train)=0.29, err(valid)=2.46, acc(valid)=0.26, \n",
      "End epoch 34 (100.740 secs): err(train)=2.35, acc(train)=0.28, err(valid)=2.46, acc(valid)=0.26, \n",
      "End epoch 35 (100.548 secs): err(train)=2.34, acc(train)=0.29, err(valid)=2.45, acc(valid)=0.26, \n",
      "End epoch 36 (100.506 secs): err(train)=2.34, acc(train)=0.29, err(valid)=2.45, acc(valid)=0.25, \n",
      "End epoch 37 (100.778 secs): err(train)=2.33, acc(train)=0.29, err(valid)=2.45, acc(valid)=0.26, \n",
      "End epoch 38 (101.015 secs): err(train)=2.33, acc(train)=0.29, err(valid)=2.45, acc(valid)=0.26, \n",
      "End epoch 39 (100.487 secs): err(train)=2.33, acc(train)=0.29, err(valid)=2.45, acc(valid)=0.26, \n",
      "data_provider is divided exactly by batch size\n",
      "End epoch 40 (100.999 secs): err(train)=2.33, acc(train)=0.29, err(valid)=2.45, acc(valid)=0.26, \n",
      "data_provider is divided exactly by batch size\n",
      "End epoch 41 (110.026 secs): err(train)=2.32, acc(train)=0.29, err(valid)=2.45, acc(valid)=0.26, \n",
      "data_provider is divided exactly by batch size\n",
      "End epoch 42 (134.201 secs): err(train)=2.32, acc(train)=0.29, err(valid)=2.45, acc(valid)=0.26, \n",
      "End epoch 43 (149.710 secs): err(train)=2.32, acc(train)=0.29, err(valid)=2.46, acc(valid)=0.25, \n",
      "End epoch 44 (96.914 secs): err(train)=2.31, acc(train)=0.30, err(valid)=2.45, acc(valid)=0.26, \n",
      "End epoch 45 (91.863 secs): err(train)=2.31, acc(train)=0.30, err(valid)=2.47, acc(valid)=0.26, \n",
      "End epoch 46 (91.618 secs): err(train)=2.31, acc(train)=0.29, err(valid)=2.46, acc(valid)=0.25, \n",
      "End epoch 47 (92.021 secs): err(train)=2.30, acc(train)=0.30, err(valid)=2.46, acc(valid)=0.26, \n",
      "data_provider is divided exactly by batch size\n",
      "End epoch 48 (91.695 secs): err(train)=2.30, acc(train)=0.30, err(valid)=2.44, acc(valid)=0.27, \n",
      "End epoch 49 (91.706 secs): err(train)=2.29, acc(train)=0.30, err(valid)=2.44, acc(valid)=0.27, \n",
      "data_provider is divided exactly by batch size\n",
      "End epoch 50 (92.050 secs): err(train)=2.30, acc(train)=0.30, err(valid)=2.41, acc(valid)=0.27, \n",
      "End epoch 51 (91.756 secs): err(train)=2.29, acc(train)=0.30, err(valid)=2.44, acc(valid)=0.26, \n",
      "data_provider is divided exactly by batch size\n",
      "End epoch 52 (91.888 secs): err(train)=2.29, acc(train)=0.30, err(valid)=2.43, acc(valid)=0.27, \n",
      "End epoch 53 (92.088 secs): err(train)=2.28, acc(train)=0.30, err(valid)=2.44, acc(valid)=0.27, \n",
      "End epoch 54 (91.619 secs): err(train)=2.28, acc(train)=0.30, err(valid)=2.43, acc(valid)=0.27, \n",
      "End epoch 55 (91.900 secs): err(train)=2.28, acc(train)=0.30, err(valid)=2.45, acc(valid)=0.27, \n",
      "End epoch 56 (91.679 secs): err(train)=2.28, acc(train)=0.31, err(valid)=2.42, acc(valid)=0.27, \n",
      "End epoch 57 (91.682 secs): err(train)=2.28, acc(train)=0.31, err(valid)=2.47, acc(valid)=0.26, \n",
      "End epoch 58 (91.757 secs): err(train)=2.28, acc(train)=0.30, err(valid)=2.41, acc(valid)=0.27, \n",
      "End epoch 59 (91.618 secs): err(train)=2.27, acc(train)=0.31, err(valid)=2.43, acc(valid)=0.26, \n",
      "End epoch 60 (91.682 secs): err(train)=2.27, acc(train)=0.30, err(valid)=2.44, acc(valid)=0.27, \n",
      "End epoch 61 (92.036 secs): err(train)=2.27, acc(train)=0.30, err(valid)=2.44, acc(valid)=0.27, \n",
      "End epoch 62 (91.688 secs): err(train)=2.26, acc(train)=0.31, err(valid)=2.43, acc(valid)=0.27, \n",
      "End epoch 63 (91.566 secs): err(train)=2.26, acc(train)=0.31, err(valid)=2.45, acc(valid)=0.27, \n",
      "End epoch 64 (91.769 secs): err(train)=2.26, acc(train)=0.31, err(valid)=2.43, acc(valid)=0.27, \n",
      "End epoch 65 (92.202 secs): err(train)=2.26, acc(train)=0.31, err(valid)=2.42, acc(valid)=0.27, \n",
      "End epoch 66 (91.754 secs): err(train)=2.26, acc(train)=0.31, err(valid)=2.42, acc(valid)=0.27, \n",
      "End epoch 67 (91.993 secs): err(train)=2.26, acc(train)=0.31, err(valid)=2.42, acc(valid)=0.27, \n",
      "data_provider is divided exactly by batch size\n",
      "End epoch 68 (91.618 secs): err(train)=2.25, acc(train)=0.31, err(valid)=2.42, acc(valid)=0.27, \n",
      "data_provider is divided exactly by batch size\n",
      "End epoch 69 (91.715 secs): err(train)=2.25, acc(train)=0.31, err(valid)=2.41, acc(valid)=0.28, \n",
      "data_provider is divided exactly by batch size\n",
      "End epoch 70 (91.908 secs): err(train)=2.25, acc(train)=0.31, err(valid)=2.40, acc(valid)=0.28, \n",
      "End epoch 71 (91.713 secs): err(train)=2.25, acc(train)=0.31, err(valid)=2.43, acc(valid)=0.27, \n",
      "data_provider is divided exactly by batch size\n",
      "End epoch 72 (91.732 secs): err(train)=2.24, acc(train)=0.31, err(valid)=2.44, acc(valid)=0.28, \n",
      "End epoch 73 (92.069 secs): err(train)=2.24, acc(train)=0.32, err(valid)=2.42, acc(valid)=0.27, \n",
      "End epoch 74 (91.901 secs): err(train)=2.24, acc(train)=0.32, err(valid)=2.41, acc(valid)=0.27, \n",
      "End epoch 75 (91.688 secs): err(train)=2.24, acc(train)=0.32, err(valid)=2.42, acc(valid)=0.27, \n",
      "data_provider is divided exactly by batch size\n",
      "End epoch 76 (91.886 secs): err(train)=2.24, acc(train)=0.32, err(valid)=2.41, acc(valid)=0.28, \n",
      "End epoch 77 (91.503 secs): err(train)=2.24, acc(train)=0.31, err(valid)=2.43, acc(valid)=0.27, \n",
      "End epoch 78 (91.378 secs): err(train)=2.23, acc(train)=0.32, err(valid)=2.41, acc(valid)=0.27, \n",
      "End epoch 79 (91.900 secs): err(train)=2.23, acc(train)=0.32, err(valid)=2.40, acc(valid)=0.28, \n",
      "End epoch 80 (91.694 secs): err(train)=2.23, acc(train)=0.32, err(valid)=2.41, acc(valid)=0.27, \n",
      "End epoch 81 (91.401 secs): err(train)=2.24, acc(train)=0.32, err(valid)=2.42, acc(valid)=0.27, \n",
      "End epoch 82 (91.630 secs): err(train)=2.23, acc(train)=0.32, err(valid)=2.43, acc(valid)=0.28, \n",
      "End epoch 83 (91.435 secs): err(train)=2.23, acc(train)=0.32, err(valid)=2.43, acc(valid)=0.27, \n",
      "End epoch 84 (91.373 secs): err(train)=2.22, acc(train)=0.32, err(valid)=2.42, acc(valid)=0.27, \n",
      "End epoch 85 (91.842 secs): err(train)=2.22, acc(train)=0.32, err(valid)=2.40, acc(valid)=0.28, \n",
      "End epoch 86 (91.547 secs): err(train)=2.22, acc(train)=0.32, err(valid)=2.42, acc(valid)=0.28, \n",
      "End epoch 87 (91.462 secs): err(train)=2.22, acc(train)=0.32, err(valid)=2.40, acc(valid)=0.28, \n",
      "End epoch 88 (91.537 secs): err(train)=2.22, acc(train)=0.32, err(valid)=2.41, acc(valid)=0.27, \n",
      "End epoch 89 (91.654 secs): err(train)=2.22, acc(train)=0.32, err(valid)=2.41, acc(valid)=0.27, \n",
      "End epoch 90 (91.451 secs): err(train)=2.22, acc(train)=0.32, err(valid)=2.42, acc(valid)=0.28, \n",
      "End epoch 91 (91.516 secs): err(train)=2.22, acc(train)=0.32, err(valid)=2.44, acc(valid)=0.27, \n",
      "End epoch 92 (91.390 secs): err(train)=2.21, acc(train)=0.32, err(valid)=2.41, acc(valid)=0.28, \n",
      "End epoch 93 (91.518 secs): err(train)=2.21, acc(train)=0.32, err(valid)=2.41, acc(valid)=0.28, \n",
      "End epoch 94 (91.901 secs): err(train)=2.21, acc(train)=0.32, err(valid)=2.41, acc(valid)=0.28, \n",
      "End epoch 95 (91.432 secs): err(train)=2.21, acc(train)=0.33, err(valid)=2.42, acc(valid)=0.28, \n",
      "End epoch 96 (91.791 secs): err(train)=2.21, acc(train)=0.33, err(valid)=2.42, acc(valid)=0.28, \n",
      "data_provider is divided exactly by batch size\n",
      "End epoch 97 (91.748 secs): err(train)=2.20, acc(train)=0.32, err(valid)=2.41, acc(valid)=0.28, \n",
      "End epoch 98 (91.578 secs): err(train)=2.21, acc(train)=0.33, err(valid)=2.41, acc(valid)=0.28, \n",
      "data_provider is divided exactly by batch size\n",
      "End epoch 99 (91.923 secs): err(train)=2.20, acc(train)=0.33, err(valid)=2.42, acc(valid)=0.28, \n",
      "data_provider is divided exactly by batch size\n",
      "End epoch 100 (92.504 secs): err(train)=2.20, acc(train)=0.33, err(valid)=2.39, acc(valid)=0.28, \n",
      "\n"
     ]
    },
    {
     "name": "stderr",
     "output_type": "stream",
     "text": [
      "/home/studenthp/pligor.george@gmail.com/msc_Artificial_Intelligence/mlp_Machine_Learning_Practical/mlpractical/mylibs/jupyter_notebook_helper.py:74: MatplotlibDeprecationWarning: axes.hold is deprecated.\n",
      "    See the API Changes document (http://matplotlib.org/api/api_changes.html)\n",
      "    for more details.\n",
      "  ax_1.hold(True)\n",
      "/home/studenthp/pligor.george@gmail.com/msc_Artificial_Intelligence/mlp_Machine_Learning_Practical/mlpractical/mylibs/jupyter_notebook_helper.py:78: MatplotlibDeprecationWarning: axes.hold is deprecated.\n",
      "    See the API Changes document (http://matplotlib.org/api/api_changes.html)\n",
      "    for more details.\n",
      "  ax_1.hold(False)\n",
      "/home/studenthp/pligor.george@gmail.com/msc_Artificial_Intelligence/mlp_Machine_Learning_Practical/mlpractical/mylibs/jupyter_notebook_helper.py:87: MatplotlibDeprecationWarning: axes.hold is deprecated.\n",
      "    See the API Changes document (http://matplotlib.org/api/api_changes.html)\n",
      "    for more details.\n",
      "  ax_2.hold(True)\n",
      "/home/studenthp/pligor.george@gmail.com/msc_Artificial_Intelligence/mlp_Machine_Learning_Practical/mlpractical/mylibs/jupyter_notebook_helper.py:91: MatplotlibDeprecationWarning: axes.hold is deprecated.\n",
      "    See the API Changes document (http://matplotlib.org/api/api_changes.html)\n",
      "    for more details.\n",
      "  ax_2.hold(False)\n"
     ]
    },
    {
     "data": {
      "image/png": "[encoded data removed]",
      "text/plain": [
       "<matplotlib.figure.Figure at 0x7f5969538510>"
      ]
     },
     "metadata": {},
     "output_type": "display_data"
    },
    {
     "data": {
      "image/png": "[encoded data removed]",
      "text/plain": [
       "<matplotlib.figure.Figure at 0x7f595f883290>"
      ]
     },
     "metadata": {},
     "output_type": "display_data"
    },
    {
     "name": "stdout",
     "output_type": "stream",
     "text": [
      "0.284899991341\n",
      "CPU times: user 3h 29min 46s, sys: 7min 59s, total: 3h 37min 46s\n",
      "Wall time: 3h 5min 53s\n"
     ]
    }
   ],
   "source": [
    "%%time\n",
    "\n",
    "epochs = 100\n",
    "\n",
    "stats, keys = rnnModel.run_rnn(state_size = state_size, num_steps=num_steps,\n",
    "                               learning_rate = learning_rate,\n",
    "                               epochs = epochs, kaggleEnabled = True)\n",
    "\n",
    "if plotting:\n",
    "    fig_1, ax_1, fig_2, ax_2 = plotStats(stats, keys)\n",
    "    plt.show()\n",
    "    if saving:\n",
    "        fig_1.savefig('cw%d_part%d_fig_error.svg' % (coursework, part))\n",
    "        fig_2.savefig('cw%d_part%d_fig_valid.svg' % (coursework, part))\n",
    "        np.save(stats_final_run_filename, stats)\n",
    "\n",
    "print max(stats[:, -1]) #maximum validation accuracy"
   ]
  },
  {
   "cell_type": "code",
   "execution_count": null,
   "metadata": {
    "collapsed": true
   },
   "outputs": [],
   "source": []
  }
 ],
 "metadata": {
  "anaconda-cloud": {},
  "kernelspec": {
   "display_name": "Python 2",
   "language": "python",
   "name": "python2"
  },
  "language_info": {
   "codemirror_mode": {
    "name": "ipython",
    "version": 2
   },
   "file_extension": ".py",
   "mimetype": "text/x-python",
   "name": "python",
   "nbconvert_exporter": "python",
   "pygments_lexer": "ipython2",
   "version": "2.7.13"
  }
 },
 "nbformat": 4,
 "nbformat_minor": 1
}
